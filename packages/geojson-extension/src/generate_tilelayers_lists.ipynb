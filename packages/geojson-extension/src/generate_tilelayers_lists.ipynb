{
 "cells": [
  {
   "cell_type": "code",
   "execution_count": null,
   "id": "32d45551-3a3e-4b0f-8252-010aa1f57476",
   "metadata": {},
   "outputs": [],
   "source": [
    "import xyzservices.providers as basemaps\n",
    "import json\n",
    "access_data = json.load(open(\"access-data.json\"))\n",
    "\n",
    "\n",
    "# Using a dict of basemaps to use Dropdown widget for basemaps that don't require apikey\n",
    "def define_basemapsDict():\n",
    "    WithoutApikeyDict = {}\n",
    "\n",
    "    for [key, val] in basemaps.items():\n",
    "        if ('url' in val):\n",
    "            apiname = val.name\n",
    "            if (apiname in access_data):\n",
    "                pass\n",
    "            else:\n",
    "                WithoutApikeyDict[apiname] = (basemap_to_tiles(basemaps[apiname]),)\n",
    "\n",
    "        else:\n",
    "            newdata = basemaps[key]\n",
    "\n",
    "            for newval in newdata.values():\n",
    "                basemap_name = newval.name\n",
    "                apiname = basemap_name.split('.')[0]\n",
    "                subname = basemap_name.split('.')[1]\n",
    "\n",
    "                if (apiname == 'HERE'):\n",
    "                    pass\n",
    "                elif (apiname in access_data):\n",
    "                    pass\n",
    "                else:\n",
    "                    WithoutApikeyDict[basemap_name] = (basemap_to_tiles(basemaps[apiname][subname]),)\n",
    "    return WithoutApikeyDict"
   ]
  },
  {
   "cell_type": "code",
   "execution_count": null,
   "id": "17311557-8abe-42b9-aa76-55e8f60d34cf",
   "metadata": {},
   "outputs": [],
   "source": [
    "# Distribute the basemaps between 2 lists : the one with apikey and the one without\n",
    "def define_basemapsList():\n",
    "    WithApikeyList = []\n",
    "    WithoutApikeyList = []\n",
    "    for [key, val] in basemaps.items():\n",
    "        if ('url' in val):\n",
    "            apiname = val.name\n",
    "            if (apiname in access_data):\n",
    "                WithApikeyList.append(val.name)\n",
    "            else:\n",
    "                WithoutApikeyList.append(val.name)\n",
    "        else:\n",
    "            newdata = basemaps[key]\n",
    "\n",
    "            for newval in newdata.values():\n",
    "                basemap_name = newval.name\n",
    "                apiname = basemap_name.split('.')[0]\n",
    "\n",
    "                if (apiname == 'HERE'):\n",
    "                    pass\n",
    "                elif (apiname in access_data):\n",
    "                    WithApikeyList.append(newval.name)\n",
    "                else:\n",
    "                    WithoutApikeyList.append(newval.name)\n",
    "    return WithoutApikeyList, WithApikeyList\n",
    "\n",
    "\n"
   ]
  },
  {
   "cell_type": "code",
   "execution_count": null,
   "id": "19e7598f-4d4d-49a6-acce-d0a13be5aff7",
   "metadata": {},
   "outputs": [],
   "source": [
    "# Select one basemap from the list given on index\n",
    "def define_basemap_from_list(List, index):\n",
    "    basemap_name = List[index]\n",
    "\n",
    "    if ('.' in basemap_name):\n",
    "        apiname = basemap_name.split('.')[0]\n",
    "        subname = basemap_name.split('.')[1]\n",
    "        basemap = basemaps[apiname][subname]\n",
    "    else:\n",
    "        basemap = basemaps[apiname]\n",
    "\n",
    "    return basemap, apiname\n"
   ]
  }
 ],
 "metadata": {
  "kernelspec": {
   "display_name": "Python 3 (ipykernel)",
   "language": "python",
   "name": "python3"
  },
  "language_info": {
   "codemirror_mode": {
    "name": "ipython",
    "version": 3
   },
   "file_extension": ".py",
   "mimetype": "text/x-python",
   "name": "python",
   "nbconvert_exporter": "python",
   "pygments_lexer": "ipython3",
   "version": "3.10.4"
  }
 },
 "nbformat": 4,
 "nbformat_minor": 5
}
